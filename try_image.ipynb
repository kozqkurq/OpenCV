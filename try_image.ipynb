{
 "cells": [
  {
   "cell_type": "code",
   "execution_count": 4,
   "metadata": {},
   "outputs": [],
   "source": [
    "import numpy as np\n",
    "import cv2"
   ]
  },
  {
   "cell_type": "code",
   "execution_count": 5,
   "metadata": {},
   "outputs": [
    {
     "data": {
      "text/plain": [
       "array([[[ 53,  70, 109],\n",
       "        [ 53,  70, 109],\n",
       "        [ 52,  69, 108],\n",
       "        ...,\n",
       "        [ 44,  42,  54],\n",
       "        [ 50,  48,  60],\n",
       "        [ 57,  55,  67]],\n",
       "\n",
       "       [[ 56,  73, 112],\n",
       "        [ 55,  72, 111],\n",
       "        [ 51,  68, 107],\n",
       "        ...,\n",
       "        [ 42,  40,  52],\n",
       "        [ 45,  43,  55],\n",
       "        [ 51,  49,  61]],\n",
       "\n",
       "       [[ 55,  72, 111],\n",
       "        [ 54,  71, 110],\n",
       "        [ 51,  68, 107],\n",
       "        ...,\n",
       "        [ 41,  39,  51],\n",
       "        [ 44,  42,  54],\n",
       "        [ 50,  48,  60]],\n",
       "\n",
       "       ...,\n",
       "\n",
       "       [[ 54,  75, 130],\n",
       "        [ 50,  73, 129],\n",
       "        [ 54,  77, 133],\n",
       "        ...,\n",
       "        [ 63,  76, 122],\n",
       "        [ 62,  75, 119],\n",
       "        [ 68,  81, 125]],\n",
       "\n",
       "       [[ 50,  74, 128],\n",
       "        [ 48,  71, 127],\n",
       "        [ 53,  76, 132],\n",
       "        ...,\n",
       "        [ 66,  79, 125],\n",
       "        [ 62,  75, 119],\n",
       "        [ 66,  79, 123]],\n",
       "\n",
       "       [[ 51,  72, 133],\n",
       "        [ 50,  72, 130],\n",
       "        [ 51,  70, 127],\n",
       "        ...,\n",
       "        [ 72,  86, 139],\n",
       "        [ 64,  80, 133],\n",
       "        [ 69,  84, 140]]], dtype=uint8)"
      ]
     },
     "execution_count": 5,
     "metadata": {},
     "output_type": "execute_result"
    }
   ],
   "source": [
    "img = cv2.imread(\"sample.jpg\")\n",
    "img"
   ]
  },
  {
   "cell_type": "code",
   "execution_count": 3,
   "metadata": {},
   "outputs": [
    {
     "data": {
      "text/plain": [
       "numpy.ndarray"
      ]
     },
     "execution_count": 3,
     "metadata": {},
     "output_type": "execute_result"
    }
   ],
   "source": [
    "type(img)"
   ]
  },
  {
   "cell_type": "code",
   "execution_count": 4,
   "metadata": {},
   "outputs": [
    {
     "data": {
      "text/plain": [
       "(225, 400, 3)"
      ]
     },
     "execution_count": 4,
     "metadata": {},
     "output_type": "execute_result"
    }
   ],
   "source": [
    "img.shape"
   ]
  },
  {
   "cell_type": "code",
   "execution_count": 5,
   "metadata": {},
   "outputs": [
    {
     "ename": "",
     "evalue": "",
     "output_type": "error",
     "traceback": [
      "\u001b[1;31mCanceled future for execute_request message before replies were done"
     ]
    },
    {
     "ename": "",
     "evalue": "",
     "output_type": "error",
     "traceback": [
      "\u001b[1;31mThe Kernel crashed while executing code in the the current cell or a previous cell. Please review the code in the cell(s) to identify a possible cause of the failure. Click <a href='https://aka.ms/vscodeJupyterKernelCrash'>here</a> for more info. View Jupyter <a href='command:jupyter.viewOutput'>log</a> for further details."
     ]
    }
   ],
   "source": [
    "cv2.imshow(\"test\", img)"
   ]
  },
  {
   "cell_type": "code",
   "execution_count": 2,
   "metadata": {},
   "outputs": [
    {
     "ename": "NameError",
     "evalue": "name 'cv2' is not defined",
     "output_type": "error",
     "traceback": [
      "\u001b[0;31m---------------------------------------------------------------------------\u001b[0m",
      "\u001b[0;31mNameError\u001b[0m                                 Traceback (most recent call last)",
      "\u001b[1;32mUntitled-1.ipynb Cell 6'\u001b[0m in \u001b[0;36m<cell line: 1>\u001b[0;34m()\u001b[0m\n\u001b[0;32m----> <a href='vscode-notebook-cell:Untitled-1.ipynb?jupyter-notebook#ch0000005untitled?line=0'>1</a>\u001b[0m cv2\u001b[39m.\u001b[39mwaitKey(\u001b[39m0\u001b[39m) \u001b[39m&\u001b[39m \u001b[39m0xFF\u001b[39m\n",
      "\u001b[0;31mNameError\u001b[0m: name 'cv2' is not defined"
     ]
    }
   ],
   "source": [
    "cv2.waitKey(0) & 0xFF"
   ]
  },
  {
   "cell_type": "code",
   "execution_count": 7,
   "metadata": {},
   "outputs": [
    {
     "data": {
      "text/plain": [
       "True"
      ]
     },
     "execution_count": 7,
     "metadata": {},
     "output_type": "execute_result"
    }
   ],
   "source": [
    "cv2.imwrite(\"test_another.jpg\", img)"
   ]
  },
  {
   "cell_type": "code",
   "execution_count": null,
   "metadata": {},
   "outputs": [],
   "source": []
  }
 ],
 "metadata": {
  "interpreter": {
   "hash": "bd3d1974a5cc75a26bd0e67d2ba3e0cd070776842bcabff0c959dbe593eb3aab"
  },
  "kernelspec": {
   "display_name": "Python 3.8.10 ('venv': venv)",
   "language": "python",
   "name": "python3"
  },
  "language_info": {
   "codemirror_mode": {
    "name": "ipython",
    "version": 3
   },
   "file_extension": ".py",
   "mimetype": "text/x-python",
   "name": "python",
   "nbconvert_exporter": "python",
   "pygments_lexer": "ipython3",
   "version": "3.8.10"
  },
  "orig_nbformat": 4
 },
 "nbformat": 4,
 "nbformat_minor": 2
}
